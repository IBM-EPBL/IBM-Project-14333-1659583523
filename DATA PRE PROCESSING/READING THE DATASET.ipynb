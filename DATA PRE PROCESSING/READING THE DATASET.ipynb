{
 "cells": [
  {
   "cell_type": "code",
   "execution_count": null,
   "id": "fb06d52e",
   "metadata": {},
   "outputs": [],
   "source": [
    "path = \"water_potability.csv\"\n",
    "df = pd.read_csv(path)"
   ]
  }
 ],
 "metadata": {
  "kernelspec": {
   "display_name": "Python 3.10.8 64-bit (microsoft store)",
   "language": "python",
   "name": "python3"
  },
  "language_info": {
   "codemirror_mode": {
    "name": "ipython",
    "version": 3
   },
   "file_extension": ".py",
   "mimetype": "text/x-python",
   "name": "python",
   "nbconvert_exporter": "python",
   "pygments_lexer": "ipython3",
   "version": "3.10.8"
  },
  "vscode": {
   "interpreter": {
    "hash": "33573ad6ec8a060fa77638721edc46ed5bde94e2a4b179647e8eaf8c231111a7"
   }
  }
 },
 "nbformat": 4,
 "nbformat_minor": 5
}
